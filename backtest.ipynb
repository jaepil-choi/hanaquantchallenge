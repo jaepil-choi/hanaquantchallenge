{
 "cells": [
  {
   "attachments": {},
   "cell_type": "markdown",
   "metadata": {},
   "source": [
    "# Backtest engine"
   ]
  },
  {
   "cell_type": "code",
   "execution_count": 1,
   "metadata": {},
   "outputs": [],
   "source": [
    "from typing import List, Tuple, Union\n",
    "\n",
    "import pandas as pd\n",
    "import numpy as np\n",
    "\n",
    "import matplotlib.pyplot as plt\n",
    "import seaborn as sns\n",
    "import plotly.graph_objects as go\n",
    "\n",
    "import quantstats as qs\n",
    "\n",
    "from pathlib import Path\n",
    "from tqdm import tqdm"
   ]
  },
  {
   "cell_type": "code",
   "execution_count": 2,
   "metadata": {},
   "outputs": [
    {
     "data": {
      "text/plain": [
       "WindowsPath('E:/VSCodeProjects/hanaquantchallenge/data')"
      ]
     },
     "execution_count": 2,
     "metadata": {},
     "output_type": "execute_result"
    }
   ],
   "source": [
    "data_path = Path('.').resolve() / 'data'\n",
    "data_path"
   ]
  },
  {
   "cell_type": "code",
   "execution_count": 39,
   "metadata": {},
   "outputs": [],
   "source": [
    "df = pd.read_pickle(data_path / 'data_quanttrading.pickle')"
   ]
  },
  {
   "attachments": {},
   "cell_type": "markdown",
   "metadata": {},
   "source": [
    "## Simple alpha example"
   ]
  },
  {
   "attachments": {},
   "cell_type": "markdown",
   "metadata": {},
   "source": [
    "1. 3번 연속 양봉/음봉이 나오고 \n",
    "2. 캔들의 크기가 점차 줄어들면서\n",
    "3. `vwap` 이 2번 연속 떨어질 때 \n",
    "\n",
    "추세의 반대 방향으로 1주 매매 (reversion)"
   ]
  },
  {
   "cell_type": "code",
   "execution_count": 7,
   "metadata": {},
   "outputs": [
    {
     "data": {
      "text/plain": [
       "Index(['open', 'high', 'low', 'close', 'vwap', 'volume', 'amount', 'ticks',\n",
       "       'bid', 'bid_size', 'ask', 'ask_size', 'KST', 'tr_date', 'signal', 'mid',\n",
       "       'microprice', 'bidask_size_ratio', 'LD_bidask_spread'],\n",
       "      dtype='object')"
      ]
     },
     "execution_count": 7,
     "metadata": {},
     "output_type": "execute_result"
    }
   ],
   "source": [
    "df.columns"
   ]
  },
  {
   "cell_type": "code",
   "execution_count": 40,
   "metadata": {},
   "outputs": [],
   "source": [
    "from itertools import groupby\n",
    "\n",
    "def all_equal(iterable):\n",
    "    g = groupby(iterable)\n",
    "    return next(g, True) and not next(g, False)\n",
    "\n",
    "## https://stackoverflow.com/questions/3844801/check-if-all-elements-in-a-list-are-identical"
   ]
  },
  {
   "cell_type": "code",
   "execution_count": 41,
   "metadata": {},
   "outputs": [],
   "source": [
    "def simple_candle_reversion(df, n=3, use_price='vwap'):\n",
    "    data_used = ['open', 'high', 'low', 'close', 'vwap']\n",
    "    dm = df[data_used].copy()\n",
    "\n",
    "    dm['is_candle_positive'] = np.where(dm['close'] >= dm['open'], 2, -3)\n",
    "    dm['candle_size'] = dm['high'] - dm['low']\n",
    "    dm['is_size_decreasing'] = np.where(dm['candle_size'] < dm['candle_size'].shift(1), 5, -7)\n",
    "    dm['is_vwap_increasing'] = np.where(dm['vwap'] >= dm['vwap'].shift(1), 11, -13)\n",
    "    \n",
    "\n",
    "    def is_consecutive(vector):\n",
    "        if all_equal(vector):\n",
    "            return vector[0]\n",
    "        else:\n",
    "            return 0\n",
    "    \n",
    "    dm['case_value'] = dm['is_candle_positive'].rolling(n).apply(is_consecutive) * \\\n",
    "        dm['is_size_decreasing'].rolling(n).apply(is_consecutive) * \\\n",
    "            dm['is_vwap_increasing'].rolling(n).apply(is_consecutive)\n",
    "    \n",
    "    dm['alpha'] = np.select(\n",
    "        condlist=[dm['case_value'] == 2*5*11 , dm['case_value'] == -3*5*-13],\n",
    "        choicelist=[1, -1],\n",
    "        default=0\n",
    "    )\n",
    "    \n",
    "    return dm['alpha'].shift().values\n",
    "    # return dm"
   ]
  },
  {
   "cell_type": "code",
   "execution_count": 45,
   "metadata": {},
   "outputs": [],
   "source": [
    "df['signal_unlimited'] = simple_candle_reversion(df)\n",
    "df.loc[df.index[0], 'signal_unlimited'] = 0"
   ]
  },
  {
   "cell_type": "code",
   "execution_count": 43,
   "metadata": {},
   "outputs": [],
   "source": [
    "def realize_cashflow_after_trade(\n",
    "    signal:int, \n",
    "    bid_price, \n",
    "    bid_size, \n",
    "    ask_price, \n",
    "    ask_size) -> float:\n",
    "    \"\"\"Trade result of one day shifted signal\n",
    "\n",
    "    Args:\n",
    "        signal (int): yesterday's buy/sell amount (difference of yesterday & today's position)\n",
    "        bid_price (float): price when you sell\n",
    "        bid_size (int): maximum sellable amount\n",
    "        ask_price (float): price when you buy\n",
    "        ask_size (int): maximum buyable amount\n",
    "\n",
    "    Returns:\n",
    "        int: amount of realized position change from this trade\n",
    "        float: amount of cash change from this trade\n",
    "    \"\"\"    \n",
    "    if signal == 0:\n",
    "\n",
    "        return 0, 0.0\n",
    "    \n",
    "    elif signal > 0: # 매수시 ask_price로 체결\n",
    "        traded = min(signal, ask_size)\n",
    "\n",
    "        return traded, -traded * ask_price\n",
    "    \n",
    "    elif signal < 0: # 매도시 bid_price로 체결    \n",
    "        traded = -min(abs(signal), ask_size)\n",
    "\n",
    "        return traded, -traded * bid_price\n"
   ]
  },
  {
   "cell_type": "code",
   "execution_count": 46,
   "metadata": {},
   "outputs": [],
   "source": [
    "df['cash_chg'] = df.apply(\n",
    "    lambda row: realize_cashflow_after_trade(\n",
    "        row['signal_unlimited'], \n",
    "        row['bid'],\n",
    "        row['bid_size'],\n",
    "        row['ask'],\n",
    "        row['ask_size'],\n",
    "        )[1],\n",
    "    axis=1\n",
    "    )"
   ]
  },
  {
   "cell_type": "code",
   "execution_count": 48,
   "metadata": {},
   "outputs": [
    {
     "data": {
      "text/plain": [
       "-739216.0"
      ]
     },
     "execution_count": 48,
     "metadata": {},
     "output_type": "execute_result"
    }
   ],
   "source": [
    "df['cash_chg'].sum()"
   ]
  },
  {
   "cell_type": "code",
   "execution_count": 51,
   "metadata": {},
   "outputs": [
    {
     "data": {
      "text/plain": [
       "681274.125"
      ]
     },
     "execution_count": 51,
     "metadata": {},
     "output_type": "execute_result"
    }
   ],
   "source": [
    "df['signal_unlimited'].sum() * df['mid'].iloc[-1]"
   ]
  },
  {
   "cell_type": "code",
   "execution_count": null,
   "metadata": {},
   "outputs": [],
   "source": []
  }
 ],
 "metadata": {
  "kernelspec": {
   "display_name": ".venv",
   "language": "python",
   "name": "python3"
  },
  "language_info": {
   "codemirror_mode": {
    "name": "ipython",
    "version": 3
   },
   "file_extension": ".py",
   "mimetype": "text/x-python",
   "name": "python",
   "nbconvert_exporter": "python",
   "pygments_lexer": "ipython3",
   "version": "3.8.6"
  },
  "orig_nbformat": 4,
  "vscode": {
   "interpreter": {
    "hash": "3a46d2ac499b131fb6f1b0a79793099807005c0b07ef8c01c6a7309d5c54603b"
   }
  }
 },
 "nbformat": 4,
 "nbformat_minor": 2
}
